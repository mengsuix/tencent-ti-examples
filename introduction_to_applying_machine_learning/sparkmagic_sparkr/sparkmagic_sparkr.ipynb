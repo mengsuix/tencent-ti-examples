{
 "cells": [
  {
   "cell_type": "markdown",
   "metadata": {},
   "source": [
    "# Sparkmagic SparkR Example\n",
    "\n",
    "由于腾讯云弹性 MapReduce服务（EMR， https://cloud.tencent.com/product/emr ）暂不支持 livy 组件，我们先使用本地 Spark 和 livy 服务做案例\n",
    "\n",
    "打开 notebook 的 console，输入 /opt/apache-livy-0.7.0-incubating-bin/bin/livy-server，将在本地 8998 端口启动 livy 服务\n",
    "\n",
    "打开 /home/tione/.sparkmagic/config.json，确认下 sparkmagic 的配置 （可以根据 notebook 的资源调整 executorCores 等参数，防止请求过多资源影响 notebook 运行），可以直接使用默认参数"
   ]
  },
  {
   "cell_type": "markdown",
   "metadata": {},
   "source": [
    "输入 %%info，确认当前的 session 语言配置，应为 sparkr，并且可以查看当前活跃的 session"
   ]
  },
  {
   "cell_type": "code",
   "execution_count": 1,
   "metadata": {},
   "outputs": [
    {
     "data": {
      "text/html": [
       "Current session configs: <tt>{'driverMemory': '1000M', 'executorCores': 1, 'kind': 'sparkr'}</tt><br>"
      ],
      "text/plain": [
       "<IPython.core.display.HTML object>"
      ]
     },
     "metadata": {},
     "output_type": "display_data"
    },
    {
     "data": {
      "text/html": [
       "No active sessions."
      ],
      "text/plain": [
       "<IPython.core.display.HTML object>"
      ]
     },
     "metadata": {},
     "output_type": "display_data"
    }
   ],
   "source": [
    "%%info"
   ]
  },
  {
   "cell_type": "markdown",
   "metadata": {},
   "source": [
    "输入 spark 的测试代码, 使用 kmeans 做数据分析"
   ]
  },
  {
   "cell_type": "code",
   "execution_count": 2,
   "metadata": {},
   "outputs": [
    {
     "name": "stdout",
     "output_type": "stream",
     "text": [
      "Starting Spark application\n"
     ]
    },
    {
     "data": {
      "text/html": [
       "<table>\n",
       "<tr><th>ID</th><th>YARN Application ID</th><th>Kind</th><th>State</th><th>Spark UI</th><th>Driver log</th><th>Current session?</th></tr><tr><td>2</td><td>None</td><td>sparkr</td><td>idle</td><td></td><td></td><td>✔</td></tr></table>"
      ],
      "text/plain": [
       "<IPython.core.display.HTML object>"
      ]
     },
     "metadata": {},
     "output_type": "display_data"
    },
    {
     "data": {
      "application/vnd.jupyter.widget-view+json": {
       "model_id": "",
       "version_major": 2,
       "version_minor": 0
      },
      "text/plain": [
       "FloatProgress(value=0.0, bar_style='info', description='Progress:', layout=Layout(height='25px', width='50%'),…"
      ]
     },
     "metadata": {},
     "output_type": "display_data"
    },
    {
     "name": "stdout",
     "output_type": "stream",
     "text": [
      "SparkSession available as 'spark'.\n"
     ]
    },
    {
     "data": {
      "application/vnd.jupyter.widget-view+json": {
       "model_id": "",
       "version_major": 2,
       "version_minor": 0
      },
      "text/plain": [
       "FloatProgress(value=0.0, bar_style='info', description='Progress:', layout=Layout(height='25px', width='50%'),…"
      ]
     },
     "metadata": {},
     "output_type": "display_data"
    },
    {
     "name": "stdout",
     "output_type": "stream",
     "text": [
      "  Class    Sex   Age Survived Freq prediction\n",
      "1   1st   Male Child       No    0          0\n",
      "2   2nd Female Adult      Yes   80          2\n",
      "3   2nd Female Child      Yes   13          0\n",
      "4   2nd   Male Child      Yes   11          0\n",
      "5   3rd Female Adult      Yes   76          2\n",
      "6   3rd   Male Adult       No  387          1"
     ]
    }
   ],
   "source": [
    "t <- as.data.frame(Titanic)\n",
    "training <- createDataFrame(t)\n",
    "df_list <- randomSplit(training, c(7,3), 2)\n",
    "kmeansDF <- df_list[[1]]\n",
    "kmeansTestDF <- df_list[[2]]\n",
    "kmeansModel <- spark.kmeans(kmeansDF, ~ Class + Sex + Age + Freq,\n",
    "                            k = 3)\n",
    "\n",
    "# Model summary\n",
    "summary(kmeansModel)\n",
    "\n",
    "# Get fitted result from the k-means model\n",
    "head(fitted(kmeansModel))\n",
    "\n",
    "# Prediction\n",
    "kmeansPredictions <- predict(kmeansModel, kmeansTestDF)\n",
    "head(kmeansPredictions)"
   ]
  },
  {
   "cell_type": "code",
   "execution_count": null,
   "metadata": {},
   "outputs": [],
   "source": []
  }
 ],
 "metadata": {
  "kernelspec": {
   "display_name": "Sparkmagic\n(SparkR)",
   "language": "",
   "name": "sparkrkernel"
  },
  "language_info": {
   "codemirror_mode": "text/x-rsrc",
   "mimetype": "text/x-rsrc",
   "name": "sparkR",
   "pygments_lexer": "r"
  }
 },
 "nbformat": 4,
 "nbformat_minor": 4
}
