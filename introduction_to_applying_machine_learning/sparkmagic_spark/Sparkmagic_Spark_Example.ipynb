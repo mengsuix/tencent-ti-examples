{
 "cells": [
  {
   "cell_type": "markdown",
   "metadata": {},
   "source": [
    "# Sparkmagic PySpark Example\n",
    "\n",
    "由于腾讯云弹性 MapReduce服务（EMR， https://cloud.tencent.com/product/emr ）暂不支持 livy 组件，我们先使用本地 Spark 和 livy 服务做案例\n",
    "\n",
    "打开 notebook 的 console，输入 /opt/apache-livy-0.7.0-incubating-bin/bin/livy-server，将在本地 8998 端口启动 livy 服务\n",
    "\n",
    "打开 /home/tione/.sparkmagic/config.json，确认下 sparkmagic 的配置 （可以根据 notebook 的资源调整 executorCores 等参数，防止请求过多资源影响 notebook 运行），可以直接使用默认参数"
   ]
  },
  {
   "cell_type": "markdown",
   "metadata": {},
   "source": [
    "输入 %%info，确认当前的 session 语言配置，应为 spark，并且可以查看当前活跃的 session"
   ]
  },
  {
   "cell_type": "code",
   "execution_count": 1,
   "metadata": {},
   "outputs": [
    {
     "data": {
      "text/html": [
       "Current session configs: <tt>{'driverMemory': '1000M', 'executorCores': 1, 'kind': 'spark'}</tt><br>"
      ],
      "text/plain": [
       "<IPython.core.display.HTML object>"
      ]
     },
     "metadata": {},
     "output_type": "display_data"
    },
    {
     "data": {
      "text/html": [
       "<table>\n",
       "<tr><th>ID</th><th>YARN Application ID</th><th>Kind</th><th>State</th><th>Spark UI</th><th>Driver log</th><th>Current session?</th></tr><tr><td>0</td><td>None</td><td>pyspark</td><td>idle</td><td></td><td></td><td></td></tr></table>"
      ],
      "text/plain": [
       "<IPython.core.display.HTML object>"
      ]
     },
     "metadata": {},
     "output_type": "display_data"
    }
   ],
   "source": [
    "%%info"
   ]
  },
  {
   "cell_type": "markdown",
   "metadata": {},
   "source": [
    "输入 spark 的测试代码, 计算圆周率并打印"
   ]
  },
  {
   "cell_type": "code",
   "execution_count": 2,
   "metadata": {},
   "outputs": [
    {
     "name": "stdout",
     "output_type": "stream",
     "text": [
      "Starting Spark application\n"
     ]
    },
    {
     "data": {
      "text/html": [
       "<table>\n",
       "<tr><th>ID</th><th>YARN Application ID</th><th>Kind</th><th>State</th><th>Spark UI</th><th>Driver log</th><th>Current session?</th></tr><tr><td>1</td><td>None</td><td>spark</td><td>idle</td><td></td><td></td><td>✔</td></tr></table>"
      ],
      "text/plain": [
       "<IPython.core.display.HTML object>"
      ]
     },
     "metadata": {},
     "output_type": "display_data"
    },
    {
     "data": {
      "application/vnd.jupyter.widget-view+json": {
       "model_id": "",
       "version_major": 2,
       "version_minor": 0
      },
      "text/plain": [
       "FloatProgress(value=0.0, bar_style='info', description='Progress:', layout=Layout(height='25px', width='50%'),…"
      ]
     },
     "metadata": {},
     "output_type": "display_data"
    },
    {
     "name": "stdout",
     "output_type": "stream",
     "text": [
      "SparkSession available as 'spark'.\n"
     ]
    },
    {
     "data": {
      "application/vnd.jupyter.widget-view+json": {
       "model_id": "",
       "version_major": 2,
       "version_minor": 0
      },
      "text/plain": [
       "FloatProgress(value=0.0, bar_style='info', description='Progress:', layout=Layout(height='25px', width='50%'),…"
      ]
     },
     "metadata": {},
     "output_type": "display_data"
    },
    {
     "name": "stdout",
     "output_type": "stream",
     "text": [
      "import scala.math.random\n",
      "import org.apache.spark.sql.SparkSession\n",
      "slices: Int = 2\n",
      "n: Int = 200000\n",
      "count: Int = 157454\n",
      "Pi is roughly 3.1490957454787276\n"
     ]
    }
   ],
   "source": [
    "import scala.math.random\n",
    "import org.apache.spark.sql.SparkSession\n",
    "\n",
    "val slices = 2\n",
    "val n = math.min(100000L * slices, Int.MaxValue).toInt // avoid overflow\n",
    "val count = sc.parallelize(1 until n, slices).map { i =>\n",
    "  val x = random * 2 - 1\n",
    "  val y = random * 2 - 1\n",
    "  if (x*x + y*y <= 1) 1 else 0\n",
    "}.reduce(_ + _)\n",
    "println(s\"Pi is roughly ${4.0 * count / (n - 1)}\")"
   ]
  },
  {
   "cell_type": "code",
   "execution_count": null,
   "metadata": {},
   "outputs": [],
   "source": []
  }
 ],
 "metadata": {
  "kernelspec": {
   "display_name": "Sparkmagic\n(Spark)",
   "language": "",
   "name": "sparkkernel"
  },
  "language_info": {
   "codemirror_mode": "text/x-scala",
   "mimetype": "text/x-scala",
   "name": "scala",
   "pygments_lexer": "scala"
  }
 },
 "nbformat": 4,
 "nbformat_minor": 4
}
