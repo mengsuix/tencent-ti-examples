{
 "cells": [
  {
   "cell_type": "markdown",
   "metadata": {},
   "source": [
    "# Use TI SDK For Environment"
   ]
  },
  {
   "cell_type": "markdown",
   "metadata": {},
   "source": [
    "本例通过Mnist例子介绍TI SDK如何使用自定义环境变量来训练模型"
   ]
  },
  {
   "cell_type": "markdown",
   "metadata": {},
   "source": [
    "### 下载训练数据"
   ]
  },
  {
   "cell_type": "code",
   "execution_count": null,
   "metadata": {},
   "outputs": [],
   "source": [
    "from tensorflow.examples.tutorials.mnist import input_data\n",
    "import tensorflow as tf\n",
    "\n",
    "train_data_path = 'train-data'\n",
    "data_sets = input_data.read_data_sets('train-data', dtype=tf.uint8, reshape=False, validation_size=5000)"
   ]
  },
  {
   "cell_type": "markdown",
   "metadata": {},
   "source": [
    "### cos训练数据上传"
   ]
  },
  {
   "cell_type": "code",
   "execution_count": null,
   "metadata": {},
   "outputs": [],
   "source": [
    "from ti import session\n",
    "ti_session = session.Session()\n",
    "inputs = ti_session.upload_data(path=train_data_path, key_prefix=\"train-data/mnist\")"
   ]
  },
  {
   "cell_type": "markdown",
   "metadata": {},
   "source": [
    "### 训练任务提交"
   ]
  },
  {
   "cell_type": "code",
   "execution_count": null,
   "metadata": {},
   "outputs": [],
   "source": [
    "from __future__ import absolute_import, print_function\n",
    "\n",
    "import sys\n",
    "from ti import session\n",
    "from ti.tensorflow import TensorFlow\n",
    "\n",
    "# 初始化\n",
    "ti_session = session.Session()\n",
    "hyperparameters = {'train-steps': 10000}\n",
    "\n",
    "# 定义环境变量\n",
    "envs = {'batch_size': 100}\n",
    "\n",
    "# 创建一个Tensorflow Estimator\n",
    "tf_estimator = TensorFlow(role=\"TIONE_QCSRole\",\n",
    "                          train_instance_count=1,\n",
    "                          train_instance_type='TI.SMALL2.1core2g',\n",
    "                          py_version='py3',\n",
    "                          script_mode=True,\n",
    "                          hyperparameters=hyperparameters,\n",
    "                          envs=envs,\n",
    "                          framework_version='1.14.0',\n",
    "                          entry_point='tf_mnist.py',\n",
    "                          source_dir='code')\n",
    "\n",
    "# 提交Tensorflow训练任务\n",
    "tf_estimator.fit(inputs)"
   ]
  }
 ],
 "metadata": {
  "kernelspec": {
   "display_name": "conda_tensorflow_py3",
   "language": "python",
   "name": "conda_tensorflow_py3"
  },
  "language_info": {
   "codemirror_mode": {
    "name": "ipython",
    "version": 3
   },
   "file_extension": ".py",
   "mimetype": "text/x-python",
   "name": "python",
   "nbconvert_exporter": "python",
   "pygments_lexer": "ipython3",
   "version": "3.6.5"
  }
 },
 "nbformat": 4,
 "nbformat_minor": 4
}
