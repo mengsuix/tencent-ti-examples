{
 "cells": [
  {
   "cell_type": "markdown",
   "metadata": {},
   "source": [
    "# 单机版PyTorch任务"
   ]
  },
  {
   "cell_type": "markdown",
   "metadata": {},
   "source": [
    "本例介绍了使用TI SDK训练PyTorch模型"
   ]
  },
  {
   "cell_type": "markdown",
   "metadata": {},
   "source": [
    "#### 引入依赖"
   ]
  },
  {
   "cell_type": "code",
   "execution_count": 1,
   "metadata": {},
   "outputs": [],
   "source": [
    "from __future__ import absolute_import, print_function\n",
    "\n",
    "import sys\n",
    "from ti import session\n",
    "from ti.pytorch import PyTorch"
   ]
  },
  {
   "cell_type": "markdown",
   "metadata": {},
   "source": [
    "#### 准备训练数据和脚本"
   ]
  },
  {
   "cell_type": "markdown",
   "metadata": {},
   "source": [
    "我们已经在对象存储COS中准备了一份数据集，您也可以替换为自己的数据。\n",
    "\n",
    "**测试数据集**(点击[此链接](https://ti-ap-guangzhou-1300268737.cos.ap-guangzhou.myqcloud.com/training_data/pytorch/simple/test)下载)\n",
    "\n",
    "**训练数据集**(点击[此链接](https://ti-ap-guangzhou-1300268737.cos.ap-guangzhou.myqcloud.com/training_data/pytorch/simple/train)下载)\n",
    "\n",
    "**验证数据集**(点击[此链接](https://ti-ap-guangzhou-1300268737.cos.ap-guangzhou.myqcloud.com/training_data/pytorch/simple/valid)下载)\n"
   ]
  },
  {
   "cell_type": "markdown",
   "metadata": {},
   "source": [
    "#### 初始化PyTorch Estimator"
   ]
  },
  {
   "cell_type": "code",
   "execution_count": null,
   "metadata": {},
   "outputs": [],
   "source": [
    "import os\n",
    "# 初始化session\n",
    "ti_session = session.Session()\n",
    "\n",
    "# 授权给TI的服务角色\n",
    "role = \"TIONE_QCSRole\"\n",
    "\n",
    "# COS中的训练数据\n",
    "inputs = 'cos://ti-%s-1300268737/training_data/tensorflow/simple' % (os.environ.get('REGION'))\n",
    "\n",
    "# 创建一个PyTorch Estimator\n",
    "estimator = PyTorch(entry_point='train.py',\n",
    "                    role=role,\n",
    "                    framework_version='1.1.0',\n",
    "                    train_instance_count=1,\n",
    "                    train_instance_type='TI.SMALL2.1core2g',\n",
    "                    source_dir='code',\n",
    "                    # available hyperparameters: emsize, nhid, nlayers, lr, clip, epochs, batch_size,\n",
    "                    #                            bptt, dropout, tied, seed, log_interval\n",
    "                    hyperparameters={\n",
    "                        'epochs': 1,\n",
    "                        'tied': True\n",
    "                    })\n",
    "\n",
    "# 提交PyTorch训练任务\n",
    "estimator.fit({'training': inputs})"
   ]
  },
  {
   "cell_type": "markdown",
   "metadata": {},
   "source": [
    "## 查看输出模型\n",
    "\n",
    "如果训练任务完成有模型输出，那么TI会将模型上传到cos上。\n",
    "你可以通过**output_path='cos://'**指定模型存储的cos路径。如果没指定，TI会按以下格式创建存储通\n",
    "**ti-[region]-[uin]-[appid]**\n",
    "\n",
    "最终模型会放在 #{bucket}/#{job_name}/output/目录下"
   ]
  },
  {
   "cell_type": "markdown",
   "metadata": {},
   "source": [
    "## 查看训练日志\n",
    "\n",
    "TI训练过程中会把日志上传到[腾讯云日志服务](https://cloud.tencent.com/product/cls)中，使用腾讯云日志服务需要先开通。\n",
    "\n",
    "TI会针对训练任务创建TiOne日志集和TrainingJob日志主题，通过日志检索功能可以搜索对应训练任务的日志。\n",
    "\n",
    "\n",
    "目前TI会默认创建一个日志集(TI)和日志主题(TrainingJob)\u0001\n",
    "\n",
    "TI内置了任务名称(job)关键词，可以通过以下条件过滤指定任务的日志\n",
    "\n",
    "```\n",
    "job: #{job_name}\n",
    "```\n",
    "\n",
    "更多日志检索语法请参考https://cloud.tencent.com/document/product/614/16981"
   ]
  },
  {
   "cell_type": "markdown",
   "metadata": {},
   "source": [
    "## 查看提交历史和监控\n",
    "\n",
    "您可以在TI产品控制台上的【任务列表】-【SDK任务】中查看您提交的SDK任务历史，点击【任务名称】列中的任务名可以看到任务的详细信息，在列表的右侧【监控】可以查看任务运行的资源监控图表"
   ]
  }
 ],
 "metadata": {
  "kernelspec": {
   "display_name": "conda_pytorch_py3",
   "language": "python",
   "name": "conda_pytorch_py3"
  },
  "language_info": {
   "codemirror_mode": {
    "name": "ipython",
    "version": 3
   },
   "file_extension": ".py",
   "mimetype": "text/x-python",
   "name": "python",
   "nbconvert_exporter": "python",
   "pygments_lexer": "ipython3",
   "version": "3.6.5"
  }
 },
 "nbformat": 4,
 "nbformat_minor": 4
}
