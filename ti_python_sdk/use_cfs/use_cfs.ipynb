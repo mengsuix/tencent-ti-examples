{
 "cells": [
  {
   "cell_type": "markdown",
   "metadata": {},
   "source": [
    "# Use TI SDK For CFS"
   ]
  },
  {
   "cell_type": "markdown",
   "metadata": {},
   "source": [
    "本例介绍了TI SDK使用CFS做为输入数据源训练Tensorflow模型"
   ]
  },
  {
   "cell_type": "markdown",
   "metadata": {},
   "source": [
    "### CFS数据上传指引"
   ]
  },
  {
   "cell_type": "markdown",
   "metadata": {},
   "source": [
    "腾讯云的文件存储（Cloud File Storage, CFS）提供了标准的 NFS 及 CIFS/SMB 文件系统访问协议。使用CFS，您的训练任务时，可以节省数据从远程下载的时间。\n",
    "您上传数据至CFS的云主机需满足如下条件：\n",
    "1. 云主机已安装NFS客户端\n",
    "2. 云主机与CFS处于同一个私有网络环境中\n",
    "\n",
    "CFS_IP等信息可从腾讯云控制台获得\n",
    "挂载CFS根目录命令为：sudo mount -t nfs -o vers=4 CFS_IP:/ /localfolder\n",
    "\n",
    "挂载CFS子目录命令为：\n",
    "sudo mount -t nfs -o vers=4 CFS_IP:/subfolder /localfolder \n",
    "\n",
    "解挂CFS目录命令为：\n",
    "umount /localfolder\n",
    "\n",
    "具体数据上传指引如下：\n",
    "https://cloud.tencent.com/document/product/582/11523"
   ]
  },
  {
   "cell_type": "markdown",
   "metadata": {},
   "source": [
    "### CFS训练数据做为输入源"
   ]
  },
  {
   "cell_type": "markdown",
   "metadata": {},
   "source": [
    "您需要向CFS文件系统中上传训练数据，具体步骤如下：\n",
    "1. 从公共COS数据集中下载训练数据\n",
    "2. 在CFS文件系统的根目录下创建training-data目录\n",
    "3. 将下载的heart.csv数据拷贝至training-data目录中"
   ]
  },
  {
   "cell_type": "code",
   "execution_count": 1,
   "metadata": {},
   "outputs": [],
   "source": [
    "#下载数据集\n",
    "!wget  https://ti-${REGION}-1300268737.cos.${REGION}.myqcloud.com/training_data/tensorflow/simple/heart.csv"
   ]
  },
  {
   "cell_type": "code",
   "execution_count": 2,
   "metadata": {},
   "outputs": [],
   "source": [
    "from ti.session import FileSystemInput\n",
    "\n",
    "#tencentcloud cfs filesystem id, obtained from console.\n",
    "file_system_id = 'cfs-xxxxxxx'\n",
    "\n",
    "#specify filesystem directory will mount\n",
    "file_system_directory_path = '/training-data/'\n",
    "\n",
    "file_system_type = \"cfs\"\n",
    "\n",
    "# file access mode in 'ro'(read-only) or 'rw' (read-write).\n",
    "file_system_access_mode = 'rw'\n",
    "train_input = FileSystemInput(file_system_id=file_system_id,\n",
    "                                directory_path=file_system_directory_path,\n",
    "                                file_system_type = file_system_type,\n",
    "                                file_system_access_mode=file_system_access_mode)"
   ]
  },
  {
   "cell_type": "markdown",
   "metadata": {},
   "source": [
    "### 提交训练任务"
   ]
  },
  {
   "cell_type": "code",
   "execution_count": null,
   "metadata": {},
   "outputs": [],
   "source": [
    "from __future__ import absolute_import, print_function\n",
    "\n",
    "import sys\n",
    "from ti import session\n",
    "from ti.tensorflow import TensorFlow\n",
    "\n",
    "# 初始化一个session\n",
    "ti_session = session.Session()\n",
    "\n",
    "# 授权给TI的服务角色\n",
    "role = \"TIONE_QCSRole\"\n",
    "\n",
    "# 设置算法超级参数\n",
    "hyperparameters = {'batch_size': 64}\n",
    "\n",
    "\n",
    "# 创建一个Tensorflow Estimator\n",
    "tf_estimator = TensorFlow(role=role,\n",
    "                          train_instance_count=1,\n",
    "                          train_instance_type='TI.SMALL2.1core2g',\n",
    "                          py_version='py3',\n",
    "                          script_mode=True,\n",
    "                          hyperparameters=hyperparameters,\n",
    "                          framework_version='2.0.0b',\n",
    "                          subnet_id = \"subnet-yyyyyy\",\n",
    "                          security_group_ids = [\"sg-xxxxxx\"],\n",
    "                          entry_point='train.py',\n",
    "                          source_dir='code')\n",
    "\n",
    "# 提交Tensorflow训练任务\n",
    "tf_estimator.fit({'training': train_input})"
   ]
  }
 ],
 "metadata": {
  "kernelspec": {
   "display_name": "conda_tensorflow_py3",
   "language": "python",
   "name": "conda_tensorflow_py3"
  },
  "language_info": {
   "codemirror_mode": {
    "name": "ipython",
    "version": 3
   },
   "file_extension": ".py",
   "mimetype": "text/x-python",
   "name": "python",
   "nbconvert_exporter": "python",
   "pygments_lexer": "ipython3",
   "version": "3.6.5"
  }
 },
 "nbformat": 4,
 "nbformat_minor": 4
}
