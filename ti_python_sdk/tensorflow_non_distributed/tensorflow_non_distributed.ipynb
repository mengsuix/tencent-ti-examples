{
 "cells": [
  {
   "cell_type": "markdown",
   "metadata": {},
   "source": [
    "# 单机版Tensorflow任务"
   ]
  },
  {
   "cell_type": "markdown",
   "metadata": {},
   "source": [
    "您可以在Notebook中使用TI SDK来提交训练任务。TI SDK不仅支持Tensorflow，PyTorch等流行的机器学习框架，还允许用户使用自定义镜像。这个示例展示如何使用TI SDK来提交单机版的Tensorflow任务"
   ]
  },
  {
   "cell_type": "markdown",
   "metadata": {},
   "source": [
    "#### 引入依赖"
   ]
  },
  {
   "cell_type": "code",
   "execution_count": 1,
   "metadata": {},
   "outputs": [],
   "source": [
    "from __future__ import absolute_import, print_function\n",
    "\n",
    "import sys\n",
    "from ti import session\n",
    "from ti.tensorflow import TensorFlow"
   ]
  },
  {
   "cell_type": "markdown",
   "metadata": {},
   "source": [
    "#### 准备训练数据和脚本"
   ]
  },
  {
   "cell_type": "markdown",
   "metadata": {},
   "source": [
    "我们已经在对象存储COS中准备好了一份训练数据(点击[此链接](https://ti-ap-guangzhou-1300268737.cos.ap-guangzhou.myqcloud.com/training_data/tensorflow/simple/heart.csv)下载)，您也可以替换为自己的数据。"
   ]
  },
  {
   "cell_type": "markdown",
   "metadata": {},
   "source": [
    "提交一个任务的步骤包括：\n",
    "1. 准备训练数据\n",
    "2. 创建一个Tensorflow Estimator，这里可以指定各种需要的参数\n",
    "3. 调用fit()提交训练任务\n",
    "\n",
    "Tensorflow Estimator目前支持的参数有\n",
    "- role： 用户授权给TI的角色名称\n",
    "- train_instance_count：计算实例的个数\n",
    "- train_instance_type： 计算实例类型\n",
    "- py_version: python版本，默认'py3'\n",
    "- script_mode: 是否是脚本模式，目前仅支持该模式，默认True\n",
    "- hyperparameters: 算法超级参数，python字典类型，算法需要的所有参数在这里添加\n",
    "- framework_version: tensorflow版本\n",
    "- entry_point: 训练脚本文件名\n",
    "- source_dir: 训练脚本的本地路径\n",
    "- output_path: 训练完模型的存储路径 cos://$bucket/$key_prefix\n",
    "\n",
    "TI SDK会拼接py_version和framework_version生成一个默认的镜像名，比如下面的例子中的镜像名为\n",
    "\n",
    "_tensorflow:2.0.0b-py3_\n",
    "\n",
    "您也可以通过**image_name**参数指定镜像名称，此时py_version和framework_version会被忽略:\n",
    "- image_name: 比如'ccr.ccs.tencentyun.com/user/tensorflow:1.14.0-py3', 请确保在腾讯云镜像仓库中已经上传该镜像"
   ]
  },
  {
   "cell_type": "code",
   "execution_count": 3,
   "metadata": {},
   "outputs": [],
   "source": [
    "import os\n",
    "# 初始化一个session\n",
    "ti_session = session.Session()\n",
    "\n",
    "# 授权给TI的服务角色\n",
    "role = \"TIONE_QCSRole\"\n",
    "\n",
    "# 读取COS中存储的训练数据\n",
    "inputs = 'cos://ti-%s-1300268737/training_data/tensorflow/simple' % (os.environ.get('REGION'))\n",
    "\n",
    "# 设置算法超级参数\n",
    "hyperparameters = {'batch_size': 64}\n",
    "\n",
    "# 创建一个Tensorflow Estimator\n",
    "tf_estimator = TensorFlow(role=role,\n",
    "                          train_instance_count=1,\n",
    "                          train_instance_type='TI.SMALL2.1core2g',\n",
    "                          py_version='py3',\n",
    "                          script_mode=True,\n",
    "                          hyperparameters=hyperparameters,\n",
    "                          framework_version='2.0.0b',\n",
    "                          entry_point='train.py',\n",
    "                          source_dir='code')\n",
    "\n",
    "# 提交Tensorflow训练任务\n",
    "tf_estimator.fit(inputs)"
   ]
  },
  {
   "cell_type": "markdown",
   "metadata": {},
   "source": [
    "## 查看输出模型\n",
    "\n",
    "\n",
    "如果训练任务完成有模型输出，那么TI会将模型上传到cos上。\n",
    "你可以通过**output_path='cos://'**指定模型存储的cos路径。如果没指定，TI会按以下格式创建存储通\n",
    "**ti-[region]-[uin]-[appid]**\n",
    "\n",
    "最终模型会放在 #{bucket}/#{job_name}/output/目录下"
   ]
  },
  {
   "cell_type": "markdown",
   "metadata": {},
   "source": [
    "\n",
    "## 查看训练日志\n"
   ]
  },
  {
   "cell_type": "markdown",
   "metadata": {},
   "source": [
    "TI训练过程中会把日志上传到[腾讯云日志服务](https://cloud.tencent.com/product/cls)中，使用腾讯云日志服务需要先开通。\n",
    "\n",
    "TI会针对训练任务创建TiOne日志集和TrainingJob日志主题，通过日志检索功能可以搜索对应训练任务的日志。\n",
    "\n",
    "\n",
    "目前TI会默认创建一个日志集(TI)和日志主题(TrainingJob)\u0001\n",
    "\n",
    "TI内置了任务名称(job)关键词，可以通过以下条件过滤指定任务的日志\n",
    "\n",
    "```\n",
    "job: #{job_name}\n",
    "```\n",
    "\n",
    "更多日志检索语法请参考https://cloud.tencent.com/document/product/614/16981"
   ]
  },
  {
   "cell_type": "markdown",
   "metadata": {},
   "source": [
    "## 查看提交历史和监控\n",
    "\n",
    "您可以在TI产品控制台上的【任务列表】-【SDK任务】中查看您提交的SDK任务历史，点击【任务名称】列中的任务名可以看到任务的详细信息，在列表的右侧【监控】可以查看任务运行的资源监控图表"
   ]
  }
 ],
 "metadata": {
  "kernelspec": {
   "display_name": "conda_tensorflow_py3",
   "language": "python",
   "name": "conda_tensorflow_py3"
  },
  "language_info": {
   "codemirror_mode": {
    "name": "ipython",
    "version": 3
   },
   "file_extension": ".py",
   "mimetype": "text/x-python",
   "name": "python",
   "nbconvert_exporter": "python",
   "pygments_lexer": "ipython3",
   "version": "3.6.5"
  }
 },
 "nbformat": 4,
 "nbformat_minor": 4
}
